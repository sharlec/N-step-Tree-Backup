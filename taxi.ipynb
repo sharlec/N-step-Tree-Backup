{
 "cells": [
  {
   "cell_type": "code",
   "execution_count": 1,
   "id": "74355943",
   "metadata": {},
   "outputs": [],
   "source": [
    "import gym\n",
    "import numpy as np"
   ]
  },
  {
   "cell_type": "code",
   "execution_count": 2,
   "id": "44110ad3",
   "metadata": {},
   "outputs": [
    {
     "name": "stdout",
     "output_type": "stream",
     "text": [
      "+---------+\n",
      "|\u001b[35mR\u001b[0m: | : :G|\n",
      "| : | : : |\n",
      "|\u001b[43m \u001b[0m: : : : |\n",
      "| | : | : |\n",
      "|\u001b[34;1mY\u001b[0m| : |B: |\n",
      "+---------+\n",
      "\n"
     ]
    }
   ],
   "source": [
    "env = gym.make(\"Taxi-v3\")\n",
    "env.reset()\n",
    "env.render()\n",
    "iterations = 5000"
   ]
  },
  {
   "cell_type": "code",
   "execution_count": 3,
   "id": "1fa82197",
   "metadata": {},
   "outputs": [
    {
     "data": {
      "text/plain": [
       "(208, -10, False, {'prob': 1.0})"
      ]
     },
     "execution_count": 3,
     "metadata": {},
     "output_type": "execute_result"
    }
   ],
   "source": [
    "#state 5*5\n",
    "env.step(5)"
   ]
  },
  {
   "cell_type": "code",
   "execution_count": 4,
   "id": "10cea36b",
   "metadata": {},
   "outputs": [
    {
     "name": "stdout",
     "output_type": "stream",
     "text": [
      "+---------+\n",
      "|\u001b[35mR\u001b[0m: | : :G|\n",
      "| : | : : |\n",
      "|\u001b[43m \u001b[0m: : : : |\n",
      "| | : | : |\n",
      "|\u001b[34;1mY\u001b[0m| : |B: |\n",
      "+---------+\n",
      "  (Dropoff)\n"
     ]
    }
   ],
   "source": [
    "env.render()"
   ]
  },
  {
   "cell_type": "code",
   "execution_count": 5,
   "id": "ad28e8d6",
   "metadata": {},
   "outputs": [],
   "source": [
    "\"\"\"\n",
    "tree backup implementation on the frozen lake\n",
    "\"\"\"\n",
    "from collections import defaultdict\n",
    "from tqdm import tqdm\n",
    "from sklearn.cluster import DBSCAN\n",
    "from sklearn.cluster import KMeans\n",
    "from sklearn.metrics import silhouette_score\n",
    "from sklearn.preprocessing import StandardScaler\n",
    "from tqdm import tqdm\n",
    "\n",
    "class tree_backup():\n",
    "    def __init__(self,\n",
    "                env,gamma,epsilon,alpha, n):\n",
    "        self.env = env\n",
    "        self.gamma = gamma\n",
    "        self.epsilon = epsilon\n",
    "        self.alpha = alpha\n",
    "        self.q = defaultdict(lambda : np.zeros(env.action_space.n))\n",
    "        self.n = n\n",
    "    \n",
    "    def choose_action(self, state):\n",
    "        epsilon = self.epsilon\n",
    "        if np.random.random() < epsilon:\n",
    "            return env.action_space.sample()\n",
    "        else:\n",
    "            return np.argmax(self.q[state])\n",
    "        \n",
    "    def action_possibility(self, state):\n",
    "        epsilon = self.epsilon\n",
    "        P = []\n",
    "        actions = self.q[state]\n",
    "        n = env.action_space.n\n",
    "        for i in range(0,n):\n",
    "            if i == np.argmax(actions):\n",
    "                P.append((epsilon/n) + 1 - epsilon)\n",
    "            else:\n",
    "                P.append(epsilon/n)\n",
    "        return P\n",
    "        \n",
    "    def run_episode(self):\n",
    "        epsilon = self.epsilon\n",
    "        alpha = self.alpha\n",
    "        episode_return = 0\n",
    "        \n",
    "        \n",
    "        # the state, action and reward of each step are saved in an array\n",
    "        r_buffer = []\n",
    "        s_buffer = []\n",
    "        a_buffer = []\n",
    "        \n",
    "        #n-steps to calculate the q-value\n",
    "        n = self.n\n",
    "        \n",
    "        #start with 0 and no more than 1000\n",
    "        t = 0\n",
    "        T = 1000\n",
    "        \n",
    "        #initialized the environment and buffer with starting state\n",
    "        state = self.env.reset()\n",
    "        action = self.choose_action(state)\n",
    "        \n",
    "        s_buffer.insert(t,state)\n",
    "        a_buffer.insert(t,action)\n",
    "        r_buffer.insert(t,0)\n",
    "        \n",
    "        while True:\n",
    "            if t < T:\n",
    "            #run a step here; move the run_step() function to here instead of a separated function\n",
    "                state, reward, done, _ = self.env.step(action)            \n",
    "                r_buffer.insert(t+1,reward)\n",
    "                s_buffer.insert(t+1, state)\n",
    "\n",
    "            #store the reward, state and action\n",
    "                episode_return += reward\n",
    "             #if terminated, then T = t + 1\n",
    "                if done:\n",
    "                    T = t + 1\n",
    "                else:\n",
    "                    action = self.choose_action(state)\n",
    "                    a_buffer.insert(t+1, action)\n",
    "            # tao is the n-steps traceback\n",
    "            tao = t + 1 - n\n",
    "            G = 0\n",
    "            if tao >= 0:\n",
    "                #terminate\n",
    "                if (t+1) >= T:\n",
    "                    G = r_buffer[T]\n",
    "                else:\n",
    "                    P = self.action_possibility(s_buffer[t+1])\n",
    "                    \"here is the sum of probability * action value\"\n",
    "                    V = P * self.q[s_buffer[t+1]]\n",
    "                    G = r_buffer[t+1] + self.gamma * sum(V)\n",
    "                    k = min(t,T-1)\n",
    "                    while k > tao:\n",
    "                        k_state = s_buffer[k]\n",
    "                        k_action = a_buffer[k]\n",
    "                        k_reward = r_buffer[k]\n",
    "                        \n",
    "                        P = self.action_possibility(s_buffer[k])\n",
    "                        V1 = 0\n",
    "                        for i in range(0,4):\n",
    "                            if i != k_action:\n",
    "                                V1 += P[i] * self.q[k_state][i]\n",
    "                        V2 = P[k_action] * G\n",
    "                        G = r_buffer[k] + self.gamma * V1 + self.gamma * V2\n",
    "                        k -= 1\n",
    "                tao_state = s_buffer[tao]\n",
    "                tao_action = a_buffer[tao]\n",
    "                self.q[tao_state][tao_action] += self.alpha * (G - self.q[tao_state][tao_action])\n",
    "            t = t + 1\n",
    "            if tao == T-1:\n",
    "                break\n",
    "           \n",
    "        return episode_return\n",
    "    \n",
    "    def learn_task(self, n):\n",
    "        returns = []\n",
    "        for i in tqdm(range(n)):\n",
    "            episode_return = self.run_episode()\n",
    "            returns.append(episode_return)\n",
    "        #print(self.q)\n",
    "        return returns\n",
    "\n",
    "    "
   ]
  },
  {
   "cell_type": "code",
   "execution_count": 6,
   "id": "85a336b1",
   "metadata": {},
   "outputs": [
    {
     "name": "stderr",
     "output_type": "stream",
     "text": [
      "100%|██████████████████████████████████████| 5000/5000 [00:05<00:00, 941.95it/s]\n"
     ]
    }
   ],
   "source": [
    "\"\"\"\n",
    "Then try to train the agent with n = 1,2,4,8,16\n",
    "\"\"\"\n",
    "env.reset()  \n",
    "agent1 = tree_backup(env, gamma = 0.9, epsilon = 0.1,\n",
    "           alpha = 0.1,n=1)\n",
    "n1 = agent1.learn_task(iterations)"
   ]
  },
  {
   "cell_type": "code",
   "execution_count": 7,
   "id": "531dc9c5",
   "metadata": {},
   "outputs": [
    {
     "name": "stderr",
     "output_type": "stream",
     "text": [
      "100%|██████████████████████████████████████| 5000/5000 [00:06<00:00, 833.17it/s]\n"
     ]
    }
   ],
   "source": [
    "env.reset()  \n",
    "agent2 = tree_backup(env, gamma = 0.9, epsilon = 0.1,\n",
    "           alpha = 0.1,n=2)\n",
    "n2 = agent2.learn_task(iterations)"
   ]
  },
  {
   "cell_type": "code",
   "execution_count": 8,
   "id": "c9aa9cc2",
   "metadata": {},
   "outputs": [
    {
     "name": "stderr",
     "output_type": "stream",
     "text": [
      "100%|██████████████████████████████████████| 5000/5000 [00:08<00:00, 571.16it/s]\n"
     ]
    }
   ],
   "source": [
    "env.reset()  \n",
    "agent4 = tree_backup(env, gamma = 0.9, epsilon = 0.1,\n",
    "           alpha = 0.1,n=4)\n",
    "n4 = agent4.learn_task(iterations)"
   ]
  },
  {
   "cell_type": "code",
   "execution_count": 9,
   "id": "13006c4c",
   "metadata": {},
   "outputs": [
    {
     "name": "stderr",
     "output_type": "stream",
     "text": [
      "100%|██████████████████████████████████████| 5000/5000 [00:47<00:00, 104.30it/s]\n"
     ]
    }
   ],
   "source": [
    "env.reset()  \n",
    "agent8 = tree_backup(env, gamma = 0.9, epsilon = 0.1,\n",
    "           alpha = 0.1,n=8)\n",
    "n8 = agent8.learn_task(iterations)"
   ]
  },
  {
   "cell_type": "code",
   "execution_count": 10,
   "id": "5668f96e",
   "metadata": {},
   "outputs": [
    {
     "name": "stderr",
     "output_type": "stream",
     "text": [
      "100%|██████████████████████████████████████| 5000/5000 [00:45<00:00, 110.66it/s]\n"
     ]
    }
   ],
   "source": [
    "env.reset()  \n",
    "agent16 = tree_backup(env, gamma = 0.9, epsilon = 0.1,\n",
    "           alpha = 0.1,n=16)\n",
    "n16 = agent16.learn_task(iterations)"
   ]
  },
  {
   "cell_type": "code",
   "execution_count": 11,
   "id": "836750d2",
   "metadata": {},
   "outputs": [
    {
     "data": {
      "image/png": "[encoded data removed]",
      "text/plain": [
       "<Figure size 432x288 with 1 Axes>"
      ]
     },
     "metadata": {
      "needs_background": "light"
     },
     "output_type": "display_data"
    }
   ],
   "source": [
    "from matplotlib import pyplot as plt\n",
    "from scipy.interpolate import pchip\n",
    "import pandas as pd\n",
    "\n",
    "def moving_average(a,n):\n",
    "    N=len(a)\n",
    "    return np.array([np.mean(a[i:i+n]) for i in np.arange(0,N-n+1)])\n",
    "\n",
    "window_size = 200\n",
    "\n",
    "n1_smooth = moving_average(n1, window_size)\n",
    "n2_smooth = moving_average(n2, window_size)\n",
    "n4_smooth = moving_average(n4, window_size)\n",
    "n8_smooth = moving_average(n8, window_size)\n",
    "n16_smooth = moving_average(n16,window_size)\n",
    "\n",
    "plt.ylim([-10,20])\n",
    "plt.plot(n1_smooth,label=\"n1\")\n",
    "plt.plot(n2_smooth,label=\"n2\")\n",
    "plt.plot(n4_smooth,label=\"n4\")\n",
    "plt.plot(n8_smooth,label=\"n8\")\n",
    "plt.plot(n16_smooth,label=\"n16\")\n",
    "plt.legend()\n",
    "plt.rcParams[\"figure.figsize\"] = [16,12]\n",
    "plt.show()"
   ]
  },
  {
   "cell_type": "code",
   "execution_count": 12,
   "id": "0dc52b0d",
   "metadata": {},
   "outputs": [
    {
     "data": {
      "text/plain": [
       "'The result demonstrate when n = 4 it can converage fastest in the taxi task'"
      ]
     },
     "execution_count": 12,
     "metadata": {},
     "output_type": "execute_result"
    }
   ],
   "source": [
    "\"\"\"The result demonstrate when n = 4 it can converage fastest in the taxi task\"\"\""
   ]
  },
  {
   "cell_type": "code",
   "execution_count": null,
   "id": "50715486",
   "metadata": {},
   "outputs": [],
   "source": []
  }
 ],
 "metadata": {
  "kernelspec": {
   "display_name": "Python 3 (ipykernel)",
   "language": "python",
   "name": "python3"
  },
  "language_info": {
   "codemirror_mode": {
    "name": "ipython",
    "version": 3
   },
   "file_extension": ".py",
   "mimetype": "text/x-python",
   "name": "python",
   "nbconvert_exporter": "python",
   "pygments_lexer": "ipython3",
   "version": "3.8.12"
  }
 },
 "nbformat": 4,
 "nbformat_minor": 5
}
